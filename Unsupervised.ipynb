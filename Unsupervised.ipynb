{
 "cells": [
  {
   "cell_type": "code",
   "execution_count": null,
   "id": "a399f488-91a8-4484-9849-bed543db6a67",
   "metadata": {},
   "outputs": [],
   "source": [
    "import os\n",
    "# The jupyter notebook is launched from your $HOME directory.\n",
    "# Change the working directory to the C-Debugging directory\n",
    "# which was created in your username directory under /scratch/vp91\n",
    "os.chdir(os.path.expandvars(\"/scratch/vp91/$USER/AAPP-Pytorch\"))\n"
   ]
  },
  {
   "cell_type": "markdown",
   "id": "118ef8b8-621b-4e67-9da5-a7fa6dea2dc2",
   "metadata": {},
   "source": [
    "# Unsupervised Learning - Clustering  \n"
   ]
  },
  {
   "cell_type": "code",
   "execution_count": null,
   "id": "d644ed32-c33c-4d24-aeee-6c34add51ffd",
   "metadata": {
    "tags": []
   },
   "outputs": [],
   "source": [
    "import torch\n",
    "import numpy as np\n",
    "import matplotlib.pyplot as plt\n",
    "from time import time\n",
    "from kmeans_pytorch import kmeans, kmeans_predict"
   ]
  },
  {
   "cell_type": "markdown",
   "id": "73ce9bd3-6a3e-4e4b-a276-0cb4a5ea03c5",
   "metadata": {},
   "source": [
    "## K-means Clustering  "
   ]
  },
  {
   "cell_type": "markdown",
   "id": "0f5be94c-876d-4baa-9e7b-db47f051f3fc",
   "metadata": {},
   "source": [
    "1. Set K – number of clusters\n",
    "2. Randomly assign k points as the centroid of the clusers\n",
    "3. Measure distance between point a and the k clusters\n",
    "4. Assign point a to the cluster with the minimum distance\n",
    "5. Repeat 3-4 for all data points\n",
    "6. Recalculate the cluster centroid\n",
    "7. Repeat 5-6 until the clusters don’t change anymore\n",
    "8. Calculate total clusters variance\n",
    "9. Repeat 2-8 N times, result is the clustering with the minimum variance\n",
    "ariance\n"
   ]
  },
  {
   "cell_type": "code",
   "execution_count": null,
   "id": "e4ee0323-dd53-4245-8924-9f40f7198250",
   "metadata": {},
   "outputs": [],
   "source": [
    "# set random seed\n",
    "np.random.seed(123)\n",
    "# data\n",
    "data_size, dims, num_clusters = 1000, 2, 3\n",
    "x = np.random.randn(data_size, dims) /6\n",
    "x = torch.from_numpy(x)\n",
    "# more data\n",
    "y = np.random.randn(5, dims) /6\n",
    "y = torch.from_numpy(y)"
   ]
  },
  {
   "cell_type": "code",
   "execution_count": null,
   "id": "95ad2dd2-09a4-4ff9-94ef-b19e54743109",
   "metadata": {},
   "outputs": [],
   "source": [
    "# set device\n",
    "if torch.cuda.is_available():\n",
    "    device = torch.device('cuda:0')\n",
    "else:\n",
    "    device = torch.device('cpu')"
   ]
  },
  {
   "cell_type": "code",
   "execution_count": null,
   "id": "5330d79a-047c-4e86-b6df-df416aeb595c",
   "metadata": {},
   "outputs": [],
   "source": [
    "# k-means\n",
    "cluster_ids_x, cluster_centers = kmeans(\n",
    "    X=x, num_clusters=num_clusters, distance='euclidean', device=device\n",
    ")"
   ]
  },
  {
   "cell_type": "code",
   "execution_count": null,
   "id": "759824a0-31b5-409b-b130-d547dfd8238e",
   "metadata": {},
   "outputs": [],
   "source": [
    "# predict cluster ids for y\n",
    "cluster_ids_y = kmeans_predict(\n",
    "    y, cluster_centers, 'euclidean', device=device\n",
    ")"
   ]
  },
  {
   "cell_type": "code",
   "execution_count": null,
   "id": "93f1ad7b-a219-4b64-8274-42f227d3c16d",
   "metadata": {},
   "outputs": [],
   "source": [
    "# plot\n",
    "plt.figure(figsize=(4, 3), dpi=160)\n",
    "plt.scatter(x[:, 0], x[:, 1], c=cluster_ids_x, cmap='cool')\n",
    "plt.scatter(y[:, 0], y[:, 1], c=cluster_ids_y, cmap='cool', marker='X')\n",
    "plt.scatter(\n",
    "    cluster_centers[:, 0], cluster_centers[:, 1],\n",
    "    c='white',\n",
    "    alpha=0.6,\n",
    "    edgecolors='black',\n",
    "    linewidths=2\n",
    ")\n",
    "plt.axis([-1, 1, -1, 1])\n",
    "plt.tight_layout()\n",
    "plt.show()"
   ]
  },
  {
   "cell_type": "markdown",
   "id": "5c565412-e043-459e-983e-1f3ba755abdd",
   "metadata": {},
   "source": [
    "## K-means CPU vs GPU"
   ]
  },
  {
   "cell_type": "code",
   "execution_count": null,
   "id": "c41457be-91a2-40cc-b0bc-3860be7bcc9e",
   "metadata": {},
   "outputs": [],
   "source": [
    "# dimensions, num clusters\n",
    "dims, num_clusters = 2, 3\n",
    "\n",
    "# data sizes\n",
    "data_sizes = [100000, 1000000, 5000000, 10000000]"
   ]
  },
  {
   "cell_type": "code",
   "execution_count": null,
   "id": "d0a4e059-9a59-4f0f-907b-5492917cca44",
   "metadata": {},
   "outputs": [],
   "source": [
    "gpu_times = []\n",
    "cpu_times = []\n",
    "\n",
    "for data_size in data_sizes:\n",
    "    print(f'\\ndata size: {data_size}')\n",
    "\n",
    "    # data\n",
    "    x = np.random.randn(data_size, dims) / 6\n",
    "    x = torch.from_numpy(x)\n",
    "\n",
    "    # gpu\n",
    "    start_gpu = time()\n",
    "    kmeans_gpu = kmeans(X=x, num_clusters=num_clusters, device=torch.device('cuda:0'))\n",
    "    gpu_time = time() - start_gpu\n",
    "    gpu_times.append(gpu_time)\n",
    "    print(f'gpu time: {gpu_time}')\n",
    "    \n",
    "    # cpu\n",
    "    start_cpu = time()\n",
    "    kmeans_cpu = kmeans(X=x, num_clusters=num_clusters, device=torch.device('cpu'))\n",
    "    cpu_time = time() - start_cpu\n",
    "    cpu_times.append(cpu_time)\n",
    "    print(f'cpu time: {cpu_time}')"
   ]
  },
  {
   "cell_type": "code",
   "execution_count": null,
   "id": "fd69a0ec-8756-4119-8b83-2474106f6d51",
   "metadata": {},
   "outputs": [],
   "source": [
    "# plot\n",
    "plt.figure(figsize=(6, 3), dpi=160)\n",
    "plt.plot(data_sizes, gpu_times, marker='o', label='gpu', color='xkcd:vermillion')\n",
    "plt.plot(data_sizes, cpu_times, marker='o', label='cpu', color='xkcd:neon blue')\n",
    "plt.xticks(data_sizes)\n",
    "plt.legend(fontsize=12)\n",
    "plt.grid(alpha=0.2)\n",
    "plt.xlabel('data size', fontsize=14)\n",
    "plt.ylabel('time (s)', fontsize=14)\n",
    "plt.show()"
   ]
  },
  {
   "cell_type": "code",
   "execution_count": null,
   "id": "b965ca9b-e5be-45af-9dd3-6ad770bef65f",
   "metadata": {},
   "outputs": [],
   "source": [
    "dataframe_raw = pd.read_csv('/scratch/vp91/AAPP2023/Data/CalCOFI_bottle.csv')\n",
    "dataframe_raw.head()"
   ]
  },
  {
   "cell_type": "code",
   "execution_count": null,
   "id": "d6728472-3a95-4b0c-a729-be3992fdfcd0",
   "metadata": {},
   "outputs": [],
   "source": [
    "dataframe_raw.describe()"
   ]
  },
  {
   "cell_type": "code",
   "execution_count": null,
   "id": "8491e142-ed55-4de2-a9e4-9366f5020ee5",
   "metadata": {},
   "outputs": [],
   "source": [
    "dataframe = dataframe_raw.filter(items=['T_degC', 'Depthm', 'Salnty', 'O2ml_L', 'STheta', 'O2Sat', 'Oxy_µmol/Kg'])\n",
    "dataframe.isnull().sum()"
   ]
  },
  {
   "cell_type": "code",
   "execution_count": null,
   "id": "83c07022-78e4-473d-9fd9-545163069962",
   "metadata": {},
   "outputs": [],
   "source": [
    "def customize_dataset(data):\n",
    "    dataframe = data.copy(deep=True)\n",
    "    #select only 7 variables\n",
    "    dataframe = dataframe.filter(items=['T_degC', 'Depthm', 'Salnty', 'O2ml_L', 'STheta', 'O2Sat', 'Oxy_µmol/Kg'])\n",
    "    #fill na values\n",
    "    dataframe = dataframe.groupby(dataframe.columns, axis = 1).transform(lambda x: x.fillna(x.mean()))\n",
    "    return dataframe"
   ]
  },
  {
   "cell_type": "code",
   "execution_count": null,
   "id": "9c131f81-04c9-4048-bfeb-cab9a4762a01",
   "metadata": {},
   "outputs": [],
   "source": [
    "dataframe = customize_dataset(dataframe)\n",
    "dataframe.isnull().sum() "
   ]
  },
  {
   "cell_type": "code",
   "execution_count": null,
   "id": "ace64bc2-a7bf-4aa1-ad53-0b21f0d7b4bb",
   "metadata": {},
   "outputs": [],
   "source": [
    "dataframe"
   ]
  },
  {
   "cell_type": "code",
   "execution_count": null,
   "id": "d103599a-47b3-4637-94e4-ef1fe1d1eaac",
   "metadata": {},
   "outputs": [],
   "source": [
    "input = dataframe[[\"T_degC\",\"Depthm\"]].to_numpy()\n",
    "x = torch.from_numpy(input)\n",
    "input.shape"
   ]
  },
  {
   "cell_type": "code",
   "execution_count": null,
   "id": "aa0d2c13-9f66-42b9-9db6-54c504048adb",
   "metadata": {},
   "outputs": [],
   "source": [
    "\n",
    "cluster_ids_x, cluster_centers = kmeans(\n",
    "    X=x, num_clusters=num_clusters, distance='euclidean', device=device\n",
    ")"
   ]
  },
  {
   "cell_type": "code",
   "execution_count": null,
   "id": "e3635f9a-4696-494a-bafc-1bf43b516c43",
   "metadata": {},
   "outputs": [],
   "source": []
  }
 ],
 "metadata": {
  "kernelspec": {
   "display_name": "Python 3 (ipykernel)",
   "language": "python",
   "name": "python3"
  },
  "language_info": {
   "codemirror_mode": {
    "name": "ipython",
    "version": 3
   },
   "file_extension": ".py",
   "mimetype": "text/x-python",
   "name": "python",
   "nbconvert_exporter": "python",
   "pygments_lexer": "ipython3",
   "version": "3.9.2"
  }
 },
 "nbformat": 4,
 "nbformat_minor": 5
}
